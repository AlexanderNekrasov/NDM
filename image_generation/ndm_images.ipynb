{
 "cells": [
  {
   "cell_type": "code",
   "execution_count": null,
   "id": "3c1b91d1-1b49-44d2-8091-061efc7ee8b0",
   "metadata": {},
   "outputs": [],
   "source": [
    "%load_ext autoreload\n",
    "%autoreload 2"
   ]
  },
  {
   "cell_type": "code",
   "execution_count": null,
   "id": "e1be0af4-cd11-4b63-af0b-422c57b8ae1b",
   "metadata": {},
   "outputs": [],
   "source": [
    "import wandb\n",
    "wandb.login()"
   ]
  },
  {
   "cell_type": "code",
   "execution_count": null,
   "id": "573f79b8-db0e-410e-bdbf-352e5b2a6fd9",
   "metadata": {},
   "outputs": [],
   "source": [
    "import main_ndm_images\n",
    "\n",
    "config = {\n",
    "    \"experiment_name\": \"ndm_images_1000steps\",\n",
    "    \"wandb_logging\": False,\n",
    "    \"image_size\": 64,\n",
    "    \"train_batch_size\": 64,\n",
    "    \"eval_batch_size\": 16,\n",
    "    \"num_epochs\": 10,\n",
    "    \"learning_rate\": 1e-4,\n",
    "    \"warmup_steps\": 1000,\n",
    "    \"num_timesteps\": 1000,\n",
    "    \"schedule_config\": {\"type\": \"cosine\", \"min_alpha\": 0.0001, \"max_alpha\": 0.9999,\n",
    "                        \"learnable\": False},\n",
    "    # \"schedule_config\": {\"type\": \"linear\", \"beta_start\": 0.0001, \"beta_end\": 0.02, \"learnable\": False},\n",
    "    \"save_images_step\": 1,\n",
    "    \"save_model_step\": 1,\n",
    "    \"gradient_clipping\": None,\n",
    "    \"importance_sampling_batch_size\": None,\n",
    "    \"uniform_prob\": 0.001,\n",
    "    \"optimizer_type\": \"adamw\",\n",
    "    \"momentum\": 0.9,\n",
    "    \"weight_decay\": 0.00001,\n",
    "    # New parameters for model loading\n",
    "    \"load_pretrained\": False,\n",
    "    # \"pretrained_run_id\": \"ndm/esjakfmk\",  # wandb run ID to load model from\n",
    "    \"pretrained_run_id\": None,\n",
    "    # \"pretrained_model_path\": \"exps/ndm_1000steps/model.pth\",  # local path to load model from (alternative to wandb)\n",
    "    \"pretrained_checkpoint_path\": \"exps/ndm_images_1000steps/checkpoint_epoch_2.pth\",\n",
    "    \"restore_scheduler\": False,\n",
    "    \"was_learnable\": False,\n",
    "    \"predict_noise\": True,\n",
    "    \"ddim_sampling\": False,\n",
    "    \"final_lr\": 1e-10\n",
    "}\n",
    "\n",
    "unet_config = {\n",
    "    \"model_channels\": 128,\n",
    "    \"num_res_blocks\": 3,\n",
    "    \"attention_resolutions\": (16, 8),\n",
    "    \"dropout\": 0.0,\n",
    "    \"channel_mult\": (1, 2, 4, 8)\n",
    "}\n",
    "\n",
    "main_ndm_images.run(config, unet_config, do_plots=True)"
   ]
  },
  {
   "cell_type": "code",
   "execution_count": null,
   "id": "2bd10a30-7bb6-4143-9d90-bc0952e6fb6b",
   "metadata": {},
   "outputs": [],
   "source": []
  }
 ],
 "metadata": {
  "kernelspec": {
   "display_name": "Python 3 (ipykernel)",
   "language": "python",
   "name": "python3"
  },
  "language_info": {
   "codemirror_mode": {
    "name": "ipython",
    "version": 3
   },
   "file_extension": ".py",
   "mimetype": "text/x-python",
   "name": "python",
   "nbconvert_exporter": "python",
   "pygments_lexer": "ipython3",
   "version": "3.10.12"
  }
 },
 "nbformat": 4,
 "nbformat_minor": 5
}
